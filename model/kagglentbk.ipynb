{
 "cells": [
  {
   "cell_type": "code",
   "execution_count": null,
   "metadata": {},
   "outputs": [],
   "source": [
    "import pandas as pd\n",
    "import numpy as np\n",
    "from transformers import AutoTokenizer, AutoModelForSequenceClassification, TrainingArguments, Trainer, DataCollatorWithPadding\n",
    "import torch\n",
    "import datasets\n",
    "import os\n",
    "import torch.nn.functional as F\n",
    "\n",
    "try:\n",
    "    import evaluate\n",
    "except:\n",
    "    !pip install evaluate\n",
    "    import evaluate\n",
    "    \n",
    "os.environ[\"WANDB_DISABLED\"] = \"true\"\n",
    "\n",
    "device = \"cuda\" if torch.cuda.is_available() else \"cpu\""
   ]
  },
  {
   "cell_type": "code",
   "execution_count": null,
   "metadata": {},
   "outputs": [],
   "source": [
    "dataset = pd.read_csv('/kaggle/input/troll-detection/dataset.csv')\n",
    "dataset['label'] = dataset['label'].astype(float)\n",
    "print(dataset.__len__())"
   ]
  },
  {
   "cell_type": "code",
   "execution_count": null,
   "metadata": {},
   "outputs": [],
   "source": [
    "train_data = dataset.sample(frac=0.8, random_state=0)\n",
    "test_data = dataset.drop(train_data.index)\n",
    "\n",
    "training = datasets.Dataset.from_pandas(train_data[['tweet', 'label']])\n",
    "validation = datasets.Dataset.from_pandas(test_data[['tweet', 'label']])"
   ]
  },
  {
   "cell_type": "code",
   "execution_count": null,
   "metadata": {},
   "outputs": [],
   "source": [
    "# Getting the metric\n",
    "roc_auc = evaluate.load('roc_auc')\n",
    "\n",
    "# Function to compute metric\n",
    "def compute_metrics(eval_pred):\n",
    "    logits, labels = eval_pred\n",
    "    tensor_logits = torch.from_numpy(logits).to(device)\n",
    "    predictions = F.sigmoid(tensor_logits).cpu().detach().numpy()\n",
    "    return roc_auc.compute(references=labels,prediction_scores=predictions)"
   ]
  },
  {
   "cell_type": "code",
   "execution_count": null,
   "metadata": {},
   "outputs": [],
   "source": [
    "tokenizer = AutoTokenizer.from_pretrained('distilbert-base-uncased')\n",
    "model = AutoModelForSequenceClassification.from_pretrained('distilbert-base-uncased',num_labels=1)\n",
    "model.to(device)\n",
    "collator = DataCollatorWithPadding(tokenizer = tokenizer)"
   ]
  },
  {
   "cell_type": "code",
   "execution_count": null,
   "metadata": {},
   "outputs": [],
   "source": [
    "def tokenize_func(sample):\n",
    "    tweets = sample['tweet']\n",
    "    return tokenizer(tweets, padding=\"max_length\", truncation=True)\n",
    "\n",
    "training = training.map(tokenize_func, batched=True, batch_size=32)\n",
    "validation = validation.map(tokenize_func, batched=True, batch_size=32)"
   ]
  },
  {
   "cell_type": "code",
   "execution_count": null,
   "metadata": {},
   "outputs": [],
   "source": [
    "training_args = TrainingArguments(output_dir='/kaggle/working/results',\n",
    "                                    num_train_epochs=5,\n",
    "                                    eval_strategy='epoch',\n",
    "                                    save_strategy='epoch',\n",
    "                                    load_best_model_at_end=True,\n",
    "                                    per_device_train_batch_size=16,\n",
    "                                    per_device_eval_batch_size=16,\n",
    "                                    warmup_steps=200,\n",
    "                                    weight_decay=0.01,\n",
    "                                    logging_dir='./logs',\n",
    "                                    logging_steps=10,\n",
    "                                    )"
   ]
  },
  {
   "cell_type": "code",
   "execution_count": null,
   "metadata": {},
   "outputs": [],
   "source": [
    "trainer = Trainer(model = model,\n",
    "                    args = training_args,\n",
    "                    train_dataset = training,\n",
    "                    eval_dataset = validation,\n",
    "                    data_collator = collator,\n",
    "                    compute_metrics = compute_metrics)"
   ]
  },
  {
   "cell_type": "code",
   "execution_count": null,
   "metadata": {},
   "outputs": [],
   "source": [
    "trainer.train()"
   ]
  },
  {
   "cell_type": "code",
   "execution_count": null,
   "metadata": {},
   "outputs": [],
   "source": [
    "trainer.save_model('fine-tuned-distillBert')\n",
    "!zip -r distill-bert.zip /kaggle/working/fine-tuned-distillBert"
   ]
  }
 ],
 "metadata": {
  "language_info": {
   "name": "python"
  }
 },
 "nbformat": 4,
 "nbformat_minor": 2
}
