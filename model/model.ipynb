{
 "cells": [
  {
   "cell_type": "code",
   "execution_count": 1,
   "metadata": {},
   "outputs": [
    {
     "name": "stderr",
     "output_type": "stream",
     "text": [
      "/home/leroy/.pyenv/versions/3.12.3/envs/data-analysis/lib/python3.12/site-packages/tqdm/auto.py:21: TqdmWarning: IProgress not found. Please update jupyter and ipywidgets. See https://ipywidgets.readthedocs.io/en/stable/user_install.html\n",
      "  from .autonotebook import tqdm as notebook_tqdm\n"
     ]
    }
   ],
   "source": [
    "import pandas as pd\n",
    "from sklearn.model_selection import train_test_split\n",
    "import numpy as np\n",
    "import evaluate\n",
    "from transformers import AutoTokenizer"
   ]
  },
  {
   "cell_type": "code",
   "execution_count": 2,
   "metadata": {},
   "outputs": [],
   "source": [
    "dataset1 = pd.read_csv('datasets/troll_dataset.csv')\n",
    "dataset2 = pd.read_csv('datasets/metootweets_cleaned.csv')\n",
    "dataset3 = pd.read_csv('datasets/WHtweets_cleaned.csv')"
   ]
  },
  {
   "cell_type": "code",
   "execution_count": 3,
   "metadata": {},
   "outputs": [],
   "source": [
    "dataset1.drop(columns = ['external_author_id', 'author', 'region', 'language', 'publish_date', 'harvested_date', 'following', 'followers', 'updates', 'account_type', 'new_june_2018', 'retweet', 'account_category', 'has_emoji'], inplace=True)\n",
    "dataset2.drop(columns = ['id', 'insertdate', 'twitterhandle', 'followers', 'hashtagsearched', 'tweetid', 'dateoftweet'], inplace=True)\n",
    "dataset3.drop(columns = ['tweet_id'], inplace=True)\n",
    "\n",
    "dataset1['label'] = 1\n",
    "dataset2['label'] = 0"
   ]
  },
  {
   "cell_type": "code",
   "execution_count": 4,
   "metadata": {},
   "outputs": [],
   "source": [
    "dataset1.rename(columns = {'content':'tweet'}, inplace=True)\n",
    "dataset2.rename(columns = {'text':'tweet'}, inplace=True)\n",
    "dataset3.rename(columns = {'text':'tweet'}, inplace=True)"
   ]
  },
  {
   "cell_type": "code",
   "execution_count": 5,
   "metadata": {},
   "outputs": [
    {
     "name": "stdout",
     "output_type": "stream",
     "text": [
      "2128608 361998\n"
     ]
    }
   ],
   "source": [
    "print (dataset1.__len__(), dataset2.__len__() +  dataset3.__len__())\n",
    "\n",
    "# dropping rows from dataset1 to get the same number of rows as dataset2 and dataset3\n",
    "dataset1 = dataset1.sample(n=dataset2.__len__() +  dataset3.__len__(), random_state=1)"
   ]
  },
  {
   "cell_type": "code",
   "execution_count": 6,
   "metadata": {},
   "outputs": [
    {
     "name": "stdout",
     "output_type": "stream",
     "text": [
      "723996\n"
     ]
    }
   ],
   "source": [
    "pd.concat([dataset1, dataset2, dataset3]).to_csv('datasets/class_dataset.csv', index=False)\n",
    "dataset = pd.read_csv('datasets/class_dataset.csv')\n",
    "\n",
    "print(dataset.__len__())"
   ]
  },
  {
   "cell_type": "code",
   "execution_count": 7,
   "metadata": {},
   "outputs": [],
   "source": [
    "X = dataset['tweet']\n",
    "y = dataset['label']\n",
    "\n",
    "X_train, X_test, y_train, y_test = train_test_split(X, y, test_size=0.25, random_state=1)"
   ]
  },
  {
   "cell_type": "code",
   "execution_count": 8,
   "metadata": {},
   "outputs": [],
   "source": [
    "tokenizer = AutoTokenizer.from_pretrained(\"distilbert/distilbert-base-uncased\")\n",
    "\n",
    "accuracy = evaluate.load('accuracy')"
   ]
  },
  {
   "cell_type": "code",
   "execution_count": null,
   "metadata": {},
   "outputs": [],
   "source": []
  }
 ],
 "metadata": {
  "kernelspec": {
   "display_name": "data-analysis",
   "language": "python",
   "name": "python3"
  },
  "language_info": {
   "codemirror_mode": {
    "name": "ipython",
    "version": 3
   },
   "file_extension": ".py",
   "mimetype": "text/x-python",
   "name": "python",
   "nbconvert_exporter": "python",
   "pygments_lexer": "ipython3",
   "version": "3.12.3"
  }
 },
 "nbformat": 4,
 "nbformat_minor": 2
}
